{
  "nbformat": 4,
  "nbformat_minor": 0,
  "metadata": {
    "colab": {
      "provenance": []
    },
    "kernelspec": {
      "name": "python3",
      "display_name": "Python 3"
    },
    "language_info": {
      "name": "python"
    }
  },
  "cells": [
    {
      "cell_type": "code",
      "source": [
        "!pip install langchain-community pypdf"
      ],
      "metadata": {
        "id": "HiK6N0p-OOEk"
      },
      "execution_count": null,
      "outputs": []
    },
    {
      "cell_type": "code",
      "source": [
        "!pip install sentence-transformers"
      ],
      "metadata": {
        "id": "r1buD4DKSc5z"
      },
      "execution_count": 74,
      "outputs": []
    },
    {
      "cell_type": "code",
      "source": [
        "!pip install chromadb"
      ],
      "metadata": {
        "id": "tmwQ39LtUlfg"
      },
      "execution_count": null,
      "outputs": []
    },
    {
      "cell_type": "code",
      "source": [
        "!pip install langchain_huggingface"
      ],
      "metadata": {
        "id": "EgnKTDr4WJfn"
      },
      "execution_count": null,
      "outputs": []
    },
    {
      "cell_type": "code",
      "execution_count": 77,
      "metadata": {
        "colab": {
          "base_uri": "https://localhost:8080/"
        },
        "id": "e7LGxE2qLgEN",
        "outputId": "3e70753d-d2b8-4a45-b09b-91db94e1ef32"
      },
      "outputs": [
        {
          "output_type": "stream",
          "name": "stdout",
          "text": [
            "Mounted at /content/drive\n"
          ]
        }
      ],
      "source": [
        "from google.colab import drive\n",
        "drive.mount('/content/drive', force_remount=True)"
      ]
    },
    {
      "cell_type": "markdown",
      "source": [
        "## Load Document"
      ],
      "metadata": {
        "id": "ZOrh6tLbYwQJ"
      }
    },
    {
      "cell_type": "code",
      "source": [
        "from langchain_community.document_loaders import PyPDFLoader\n",
        "loader = PyPDFLoader('/content/drive/My Drive/code/Generate/glasses.pdf')\n",
        "\n",
        "data = loader.load()\n",
        "print(data)"
      ],
      "metadata": {
        "colab": {
          "base_uri": "https://localhost:8080/"
        },
        "id": "qt4OqGrjOG3S",
        "outputId": "19a98b8c-3f41-40a7-e874-f19adddb00f1"
      },
      "execution_count": 78,
      "outputs": [
        {
          "output_type": "stream",
          "name": "stdout",
          "text": [
            "[Document(metadata={'producer': 'Skia/PDF m136 Google Docs Renderer', 'creator': 'PyPDF', 'creationdate': '', 'title': 'glasses', 'source': '/content/drive/My Drive/code/Generate/glasses.pdf', 'total_pages': 2, 'page': 0, 'page_label': '1'}, page_content='Title:  The  Beginner’s  Guide  to  Keeping  Your  Glasses  Clean  (and  Actually  Seeing  Clearly)  \\n1.  Introduction  \\nGlasses  are  like  windows  for  your  eyes—except  they  somehow  attract  more  smudges  than  a  \\ntoddler’s\\n \\nhands\\n \\non\\n \\na\\n \\ntouchscreen.\\n \\nWhether\\n \\nyou\\n \\nwear\\n \\nthem\\n \\nfor\\n \\nstyle\\n \\nor\\n \\nsurvival,\\n \\nkeeping\\n \\nthem\\n \\nclean\\n \\nand\\n \\nwell-maintained\\n \\nis\\n \\nessential\\n \\nfor\\n \\nboth\\n \\nyour\\n \\nvision\\n \\nand\\n \\nyour\\n \\nsanity.\\n \\n2.  How  to  Properly  Clean  Your  Glasses  \\nSpoiler  alert:  Your  T-shirt  is  not  the  right  tool.  Here’s  what  to  do  instead:  \\nThe  Right  Way:  \\n1.  Rinse  First  –  Run  your  glasses  under  lukewarm  water  to  remove  dust  (scratches  are  the  \\nenemy!).\\n \\n 2.  Use  Dish  Soap  –  A  tiny  drop  of  mild,  lotion-free  dish  soap  works  wonders.  \\n 3.  Gently  Rub  –  Use  your  fingers  to  clean  the  lenses  and  frame.  \\n 4.  Rinse  &  Dry  –  Pat  dry  with  a  microfiber  cloth  (not  paper  towels  or  your  hoodie  sleeve).  \\n \\nThe  Wrong  Way  (AKA:  What  You’re  Probably  Doing)  \\n●  Using  your  breath  +  sleeve  combo  \\n ●  Cleaning  with  paper  towels  (hello,  scratches!)  \\n ●  Leaving  them  dirty  until  you  literally  can’t  see  \\n \\n3.  How  to  Avoid  Scratches  \\n●  Always  store  your  glasses  in  a  case  (or  at  least  not  face-down  on  the  table).  \\n ●  Use  a  microfiber  cloth  for  cleaning—no  tissues,  napkins,  or  that  old  sock  you  found.  \\n ●  Avoid  putting  them  on  top  of  your  head  ( yes,  it  stretches  them! ).  \\n \\n4.  Preventing  Loose  Screws  &  Crooked  Frames'), Document(metadata={'producer': 'Skia/PDF m136 Google Docs Renderer', 'creator': 'PyPDF', 'creationdate': '', 'title': 'glasses', 'source': '/content/drive/My Drive/code/Generate/glasses.pdf', 'total_pages': 2, 'page': 1, 'page_label': '2'}, page_content='●  If  your  glasses  feel  wobbly,  tighten  the  tiny  screws  with  a  glasses  screwdriver  (or  visit  \\nan\\n \\noptician).\\n \\n ●  If  they  keep  slipping  off  your  nose,  get  adjustable  nose  pads  or  anti-slip  hooks .  \\n ●  Don’t  fall  asleep  wearing  them  unless  you  enjoy  waking  up  to  bent  frames.  \\n \\n5.  Protecting  Your  Lenses  \\n●  If  you  have  anti-glare  or  blue-light  coatings,  avoid  alcohol-based  cleaners  (they  can  strip  \\nthe\\n \\ncoating).\\n \\n ●  Keep  them  away  from  extreme  heat  (e.g.,  don’t  leave  them  on  your  car  dashboard).')]\n"
          ]
        }
      ]
    },
    {
      "cell_type": "markdown",
      "source": [
        "## Parsing Document"
      ],
      "metadata": {
        "id": "P9hNaC1dY0Bi"
      }
    },
    {
      "cell_type": "code",
      "source": [
        "from langchain_text_splitters import RecursiveCharacterTextSplitter\n",
        "import re\n",
        "separator = r\"\\d+\\.\"\n",
        "\n",
        "chunk_size = 200\n",
        "chunk_overlap = 50\n",
        "\n",
        "rc_splitter = RecursiveCharacterTextSplitter(\n",
        "        separators=separator,\n",
        "\t\tchunk_size=chunk_size,\n",
        "\t\tchunk_overlap=chunk_overlap)\n",
        "\n",
        "docs = rc_splitter.split_documents(data)"
      ],
      "metadata": {
        "id": "-ZiOE7xbM3yU"
      },
      "execution_count": 182,
      "outputs": []
    },
    {
      "cell_type": "code",
      "source": [
        "print([doc.page_content for doc in docs[0:3]])"
      ],
      "metadata": {
        "colab": {
          "base_uri": "https://localhost:8080/"
        },
        "id": "CBUnroHHPPIc",
        "outputId": "9eea66e8-adc5-4a66-a473-5c3de6057f86"
      },
      "execution_count": 183,
      "outputs": [
        {
          "output_type": "stream",
          "name": "stdout",
          "text": [
            "['Title:  The  Beginner’s  Guide  to  Keeping  Your  Glasses  Clean  (and  Actually  Seeing  Clearly)  \\n1.  Introduction  \\nGlasses  are  like  win', 'duction  \\nGlasses  are  like  windows  for  your  eyes—except  they  somehow  attract  more  smudges  than  a  \\ntoddler’s\\n \\nhan', 'dges  than  a  \\ntoddler’s\\n \\nhands\\n \\non\\n \\na\\n \\ntouchscreen.\\n \\nWhether\\n \\nyou\\n \\nwear\\n \\nthem\\n \\nfor\\n \\nstyle\\n \\nor\\n \\nsurvival,\\n \\nkeeping\\n \\nthem\\n \\nclean\\n \\nand\\n \\nwell-maintaine']\n"
          ]
        }
      ]
    },
    {
      "cell_type": "code",
      "source": [
        "print(f'Character count for each chunk: {[len(doc.page_content) for doc in docs[0:3]]}')"
      ],
      "metadata": {
        "colab": {
          "base_uri": "https://localhost:8080/"
        },
        "id": "eXCQm8NQPpAe",
        "outputId": "bc63d914-581e-450b-ac14-fe91e69fcb07"
      },
      "execution_count": 157,
      "outputs": [
        {
          "output_type": "stream",
          "name": "stdout",
          "text": [
            "Character count for each chunk: [118, 198, 191]\n"
          ]
        }
      ]
    },
    {
      "cell_type": "code",
      "source": [
        "# Iterate over docs and clean the \\n in the text content (page_content)\n",
        "cleaned_docs = []\n",
        "for doc in docs:\n",
        "    # Clean the \\n in the page_content of each document\n",
        "    cleaned_text = doc.page_content.replace('\\n', ' ')\n",
        "    # Create a new Document with the cleaned content\n",
        "    cleaned_docs.append(doc.copy(update={'page_content': cleaned_text}))\n",
        "\n",
        "print([cleaned_doc.page_content for cleaned_doc in cleaned_docs[0:3]])"
      ],
      "metadata": {
        "colab": {
          "base_uri": "https://localhost:8080/"
        },
        "id": "IrHkc9Y-fW6I",
        "outputId": "9378b1f6-2cc0-40f9-ec41-86c614cbb7e2"
      },
      "execution_count": 201,
      "outputs": [
        {
          "output_type": "stream",
          "name": "stdout",
          "text": [
            "['Title:  The  Beginner’s  Guide  to  Keeping  Your  Glasses  Clean  (and  Actually  Seeing  Clearly)   1.  Introduction   Glasses  are  like  win', 'duction   Glasses  are  like  windows  for  your  eyes—except  they  somehow  attract  more  smudges  than  a   toddler’s   han', 'dges  than  a   toddler’s   hands   on   a   touchscreen.   Whether   you   wear   them   for   style   or   survival,   keeping   them   clean   and   well-maintaine']\n"
          ]
        },
        {
          "output_type": "stream",
          "name": "stderr",
          "text": [
            "<ipython-input-201-9224ce36f7bb>:7: PydanticDeprecatedSince20: The `copy` method is deprecated; use `model_copy` instead. See the docstring of `BaseModel.copy` for details about how to handle `include` and `exclude`. Deprecated in Pydantic V2.0 to be removed in V3.0. See Pydantic V2 Migration Guide at https://errors.pydantic.dev/2.11/migration/\n",
            "  cleaned_docs.append(doc.copy(update={'page_content': cleaned_text}))\n"
          ]
        }
      ]
    },
    {
      "cell_type": "markdown",
      "source": [
        "## Initialize Embedding Model"
      ],
      "metadata": {
        "id": "rMUHBcwZY10M"
      }
    },
    {
      "cell_type": "code",
      "source": [
        "from langchain.embeddings import HuggingFaceEmbeddings\n",
        "embed_model = HuggingFaceEmbeddings(model_name=\"sentence-transformers/all-mpnet-base-v2\")"
      ],
      "metadata": {
        "id": "YZ2z8EFKVXXL"
      },
      "execution_count": 194,
      "outputs": []
    },
    {
      "cell_type": "markdown",
      "source": [
        "## Save Embedding to ChromaDB"
      ],
      "metadata": {
        "id": "JBvD4H5fY5s1"
      }
    },
    {
      "cell_type": "code",
      "source": [
        "from langchain.vectorstores import Chroma\n",
        "\n",
        "persist_directory = '/content/drive/MyDrive/code/Generate/chroma-vectorstore'\n",
        "\n",
        "vectorstore = Chroma.from_documents(\n",
        "    cleaned_docs,\n",
        "    embedding=embed_model,\n",
        "    persist_directory=persist_directory\n",
        ")"
      ],
      "metadata": {
        "id": "q4sGvXViQ_v3"
      },
      "execution_count": 202,
      "outputs": []
    },
    {
      "cell_type": "markdown",
      "source": [
        "## Initialize Text Generation Model"
      ],
      "metadata": {
        "id": "xSALdX1oY_wR"
      }
    },
    {
      "cell_type": "code",
      "source": [
        "from langchain_huggingface import HuggingFacePipeline\n",
        "\n",
        "llm = HuggingFacePipeline.from_model_id(\n",
        "    model_id='distilgpt2',\n",
        "    task='text-generation',\n",
        "    pipeline_kwargs={\n",
        "        'max_new_tokens': 100,\n",
        "        'temperature': 0.7,\n",
        "        'top_p': 0.9 # Consider top 90% of the probability distribution for next token\n",
        "    }\n",
        ")"
      ],
      "metadata": {
        "colab": {
          "base_uri": "https://localhost:8080/"
        },
        "id": "KDT7bTnUV25k",
        "outputId": "38b6068e-a99a-4c46-f28a-98c922cc1f9b"
      },
      "execution_count": 235,
      "outputs": [
        {
          "output_type": "stream",
          "name": "stderr",
          "text": [
            "Device set to use cpu\n"
          ]
        }
      ]
    },
    {
      "cell_type": "markdown",
      "source": [
        "## Create Template for Prompt"
      ],
      "metadata": {
        "id": "r01abIwMZCG9"
      }
    },
    {
      "cell_type": "code",
      "source": [
        "from langchain_core.prompts import ChatPromptTemplate\n",
        "\n",
        "message = \"\"\"\n",
        "Review and improve the following customer care instructions for newly bought glasses. The guidelines below should be considered when improving the instructions:\n",
        "Guidelines:\n",
        "{guideline}\n",
        "\n",
        "Instructions:\n",
        "{care_instruction}\n",
        "\n",
        "Improved Instructions:\n",
        "\"\"\"\n",
        "\n",
        "prompt_template = ChatPromptTemplate.from_messages([(\"human\", message)])"
      ],
      "metadata": {
        "id": "TXgpxX8GP-J2"
      },
      "execution_count": 236,
      "outputs": []
    },
    {
      "cell_type": "markdown",
      "source": [
        "## Initialize Retriver from vectorstore\n",
        "Enabling searching for most similar documents"
      ],
      "metadata": {
        "id": "ZlLPRuAcZIDv"
      }
    },
    {
      "cell_type": "code",
      "source": [
        "retriever = vectorstore.as_retriever(\n",
        "    search_type=\"similarity\",\n",
        "    search_kwargs={\"k\": 3}\n",
        ")"
      ],
      "metadata": {
        "id": "CNcf8JsyVsbe"
      },
      "execution_count": 237,
      "outputs": []
    },
    {
      "cell_type": "markdown",
      "source": [
        "## Chaining Prompt with LLM"
      ],
      "metadata": {
        "id": "Vu1Z7ZY8ZfSI"
      }
    },
    {
      "cell_type": "code",
      "source": [
        "from langchain_core.runnables import RunnablePassthrough\n",
        "\n",
        "rag_chain = ({\"guideline\": retriever, \"care_instruction\": RunnablePassthrough()}\n",
        "            | prompt_template\n",
        "            | llm)"
      ],
      "metadata": {
        "id": "ghVSnJKFQWG5"
      },
      "execution_count": 248,
      "outputs": []
    },
    {
      "cell_type": "code",
      "source": [
        "response = rag_chain.invoke(\"Use mild dish Soap to clan your glasses\")"
      ],
      "metadata": {
        "id": "hxJ6qDtLWY3E"
      },
      "execution_count": 249,
      "outputs": []
    },
    {
      "cell_type": "code",
      "source": [
        "print(response)"
      ],
      "metadata": {
        "colab": {
          "base_uri": "https://localhost:8080/"
        },
        "id": "Ds_eAdRjW8SV",
        "outputId": "f9d4270a-0069-43da-f71d-3a4c6bdb509a"
      },
      "execution_count": 250,
      "outputs": [
        {
          "output_type": "stream",
          "name": "stdout",
          "text": [
            "Human: \n",
            "Review and improve the following customer care instructions for newly bought glasses. The guidelines below should be considered when improving the instructions:\n",
            "Guidelines:\n",
            "[Document(metadata={'creationdate': '', 'creator': 'PyPDF', 'page': 0, 'page_label': '1', 'producer': 'Skia/PDF m136 Google Docs Renderer', 'source': '/content/drive/My Drive/code/Generate/glasses.pdf', 'title': 'glasses', 'total_pages': 2}, page_content='do  instead:  \\nThe  Right  Way:  \\n1.  Rinse  First  –  Run  your  glasses  under  lukewarm  water  to  remove  dust  (scratches  are  the  \\nenemy!).\\n \\n 2.  Use  Dish  Soap  –  A  tiny  drop  of  mil'), Document(metadata={'creationdate': '', 'creator': 'PyPDF', 'page': 0, 'page_label': '1', 'producer': 'Skia/PDF m136 Google Docs Renderer', 'source': '/content/drive/My Drive/code/Generate/glasses.pdf', 'title': 'glasses', 'total_pages': 2}, page_content='do  instead:   The  Right  Way:   1.  Rinse  First  –  Run  your  glasses  under  lukewarm  water  to  remove  dust  (scratches  are  the   enemy!).    2.  Use  Dish  Soap  –  A  tiny  drop  of  mil'), Document(metadata={'creationdate': '', 'creator': 'PyPDF', 'page': 0, 'page_label': '1', 'producer': 'Skia/PDF m136 Google Docs Renderer', 'source': '/content/drive/My Drive/code/Generate/glasses.pdf', 'title': 'glasses', 'total_pages': 2}, page_content='do  instead:  \\nThe  Right  Way:  \\n1.  Rinse  First  –  Run  your  glasses  under  lukewarm  water  to  remove  dust  (scratches  are  the  \\nenemy!).\\n \\n 2.  Use  Dish  Soap  –  A  tiny  drop  of  mil')]\n",
            "\n",
            "Instructions:\n",
            "Use mild dish Soap to clan your glasses\n",
            "\n",
            "Improved Instructions:\n",
            "Use the  Dish  Soap  –  A  tiny drop  of  mil')]\n",
            "The                                                                              \n"
          ]
        }
      ]
    }
  ]
}